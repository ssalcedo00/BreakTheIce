{
 "metadata": {
  "language_info": {
   "codemirror_mode": {
    "name": "ipython",
    "version": 3
   },
   "file_extension": ".py",
   "mimetype": "text/x-python",
   "name": "python",
   "nbconvert_exporter": "python",
   "pygments_lexer": "ipython3",
   "version": "3.9.1-final"
  },
  "orig_nbformat": 2,
  "kernelspec": {
   "name": "python391jvsc74a57bd0ac59ebe37160ed0dfa835113d9b8498d9f09ceb179beaac4002f036b9467c963",
   "display_name": "Python 3.9.1 64-bit"
  },
  "metadata": {
   "interpreter": {
    "hash": "ac59ebe37160ed0dfa835113d9b8498d9f09ceb179beaac4002f036b9467c963"
   }
  }
 },
 "nbformat": 4,
 "nbformat_minor": 2,
 "cells": [
  {
   "cell_type": "code",
   "execution_count": 1,
   "metadata": {},
   "outputs": [],
   "source": [
    "\"\"\" CONSTANTS \"\"\"\n",
    "rho_basalt = 2.8*10**3 #kg/m^3\n",
    "\n",
    "#Wood-Robinson et al. tested densities\n",
    "rho_a = 0.88*10**3\n",
    "rho_b = 0.98*10**3\n",
    "rho_c = 1.13*10**3\n",
    "rho_d = 1.3*10**3\n",
    "rho_e = 1.5*10**3\n",
    "\n",
    "#Challenge given bulk densities\n",
    "rho_0 = 1.47*10**3 #kg/m^3 (density from 0.0 - 0.2m)\n",
    "rho_1 = 1.79*10**3 #kg/m^3 (density from 0.2 - 1m)\n",
    "rho_2 = 1.85*10**3 #kg/m^3 (density from 1 - 3.5m)"
   ]
  },
  {
   "source": [
    "\"\"\" FUNCTIONS \"\"\"\n",
    "def kam(T):\n",
    "    A = -2.03297*10**-1\n",
    "    B = -11.472\n",
    "    C = 22.5793\n",
    "    D = -14.3084\n",
    "    E = 3.14742\n",
    "    F = 0.01101\n",
    "    G = -2.80491 * 10**-5\n",
    "    H = 3.35837 * 10**-8\n",
    "    I = -1.40021*10**-11\n",
    "    return A + B*T**-4 + C*T**-3 + D*T**-2 + E*T**-1 + F*T + G*T**2 + H*T**3 + I*T**4\n",
    "\n",
    "def k_eff(T, rho, p): \n",
    "    A = 1.3*10**-11 #W/m^-1*K^-4\n",
    "    B = 9.9*10**-4 #\n",
    "    C = 9.2*10**-10 #m^6/kg^2\n",
    "    print(\"p: \" + str(p(rho)))\n",
    "    return A*T**3 + (B+C* rho**2)*(1-p(rho))*kam(T)\n",
    "\n",
    "def p(rho):\n",
    "    return 1- (rho / rho_basalt)"
   ],
   "cell_type": "code",
   "metadata": {},
   "execution_count": 12,
   "outputs": []
  },
  {
   "cell_type": "code",
   "execution_count": 20,
   "metadata": {},
   "outputs": [
    {
     "output_type": "stream",
     "name": "stdout",
     "text": [
      "Surface Thermal Conductivity at T = 75K:\n- Region 0: 0.815167 10^-3 W/m*K, ρ = 1470.0kg/m^3\n- Region 1: 1.30917 10^-3 W/m*K, ρ = 1790.0 kg/m^3\n- Region 2: 1.42162 10^-3 W/m*K, ρ = 1850.0kg/m^3\n"
     ]
    }
   ],
   "source": [
    "\"\"\" CALCULATIONS \"\"\"\n",
    "T = 75 #K\n",
    "print(\"Surface Thermal Conductivity at T = 75K:\")\n",
    "print(\"- Region 0: \" + f\"{k_surface * 10**3:.6}\" + \" 10^-3 W/m*K, \\u03C1 = \" \n",
    "            + str(rho_0) + \"kg/m^3\")\n",
    "print(\"- Region 1: \" + f\"{k_mid * 10**3:.6}\" + \" 10^-3 W/m*K, \\u03C1 = \" \n",
    "            + str(rho_1) + \" kg/m^3\")\n",
    "print(\"- Region 2: \" + f\"{k_deep * 10**3:.6}\" + \" 10^-3 W/m*K, \\u03C1 = \" \n",
    "            + str(rho_2) +  \"kg/m^3\")"
   ]
  },
  {
   "cell_type": "code",
   "execution_count": null,
   "metadata": {},
   "outputs": [],
   "source": []
  }
 ]
}